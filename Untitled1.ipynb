{
 "cells": [
  {
   "cell_type": "code",
   "execution_count": 2,
   "id": "82062496-0f19-4a36-bbbb-abe02d02f6fb",
   "metadata": {},
   "outputs": [
    {
     "name": "stdout",
     "output_type": "stream",
     "text": [
      "清洗完成！快去文件夹找干净数据.csv\n"
     ]
    }
   ],
   "source": [
    "import pandas as pd\n",
    "\n",
    "# 生成假数据（简历里说10万条）  \n",
    "data = {'姓名': ['张三', '李四', '王五', '张三'],  \n",
    "        '年龄': [25, 30, None, 25],  \n",
    "        '城市': ['北京', '上海', '广州', '北京']}  \n",
    "df = pd.DataFrame(data)  \n",
    "\n",
    "# 开始清洗（简历核心技能）  \n",
    "df = df.drop_duplicates()  # 去重  \n",
    "df = df.dropna()  # 删空值  \n",
    "\n",
    "# 保存结果  \n",
    "df.to_csv('干净数据.csv', index=False)  \n",
    "print(\"清洗完成！快去文件夹找干净数据.csv\")  "
   ]
  },
  {
   "cell_type": "code",
   "execution_count": null,
   "id": "38d8013f-b553-4668-bf7c-a0a692d8bff0",
   "metadata": {},
   "outputs": [],
   "source": []
  }
 ],
 "metadata": {
  "kernelspec": {
   "display_name": "Python 3 (ipykernel)",
   "language": "python",
   "name": "python3"
  },
  "language_info": {
   "codemirror_mode": {
    "name": "ipython",
    "version": 3
   },
   "file_extension": ".py",
   "mimetype": "text/x-python",
   "name": "python",
   "nbconvert_exporter": "python",
   "pygments_lexer": "ipython3",
   "version": "3.12.7"
  }
 },
 "nbformat": 4,
 "nbformat_minor": 5
}
